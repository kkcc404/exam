{
  "nbformat": 4,
  "nbformat_minor": 0,
  "metadata": {
    "colab": {
      "provenance": []
    },
    "kernelspec": {
      "name": "python3",
      "display_name": "Python 3"
    },
    "language_info": {
      "name": "python"
    }
  },
  "cells": [
    {
      "cell_type": "code",
      "execution_count": null,
      "metadata": {
        "id": "nfmYdLLttAB1"
      },
      "outputs": [],
      "source": [
        "X = [[190,70,44],[166,65,45],[190,90,47],[175,64,39],[171,75,40],[177,80,42],[160,60,38],[144,54,37]]\n",
        "Y = ['male','male','male','male','female','female','female','female']\n"
      ]
    },
    {
      "cell_type": "code",
      "source": [
        "#Predict for this vector (height, wieghts, shoe size)\n",
        "P = [[190,55,38]]\n"
      ],
      "metadata": {
        "id": "z5HUsnMxtfRF"
      },
      "execution_count": null,
      "outputs": []
    },
    {
      "cell_type": "code",
      "source": [
        "#Predict for this vector (height, wieghts, shoe size)\n",
        "P = [[190,55,38]]"
      ],
      "metadata": {
        "id": "Ah3aBowMtghu"
      },
      "execution_count": null,
      "outputs": []
    },
    {
      "cell_type": "code",
      "source": [
        "#{Decision Tree Model}\n",
        "from sklearn.tree import DecisionTreeClassifier\n",
        "clf = DecisionTreeClassifier()\n",
        "clf = clf.fit(X,Y)\n",
        "print (\"\\n1) Using Decision Tree Prediction is \" + str(clf.predict(P)))\n"
      ],
      "metadata": {
        "id": "SA9b4AWithiW"
      },
      "execution_count": null,
      "outputs": []
    },
    {
      "cell_type": "code",
      "source": [
        "#{K Neighbors Classifier}\n",
        "\n",
        "from sklearn.neighbors import KNeighborsClassifier\n",
        "knn = KNeighborsClassifier()\n",
        "knn.fit(X,Y)\n",
        "print(\"2) Using K Neighbors Classifier Prediction is \" +str(knn.predict(P)))\n"
      ],
      "metadata": {
        "id": "ue61-L6Xthy0"
      },
      "execution_count": null,
      "outputs": []
    },
    {
      "cell_type": "code",
      "source": [
        "from sklearn.ensemble import RandomForestClassifier\n",
        "rfor = RandomForestClassifier()\n",
        "rfor.fit(X,Y)\n",
        "print (\"3) Using RandomForestClassifier Prediction is \" + str(rfor.predict(P)) +\"\\n\")\n"
      ],
      "metadata": {
        "id": "T90YEtu1tiHI"
      },
      "execution_count": null,
      "outputs": []
    },
    {
      "cell_type": "code",
      "source": [
        "from sklearn.svm import SVC\n",
        "svc = SVC()\n",
        "svc.fit(X,Y)\n",
        "prediction = svc.predict(P)\n",
        "print (\"4) Using SVC Prediction is  \" + str(svc.predict(P)) +\"\\n\")"
      ],
      "metadata": {
        "id": "PVvSgLhOtiXN"
      },
      "execution_count": null,
      "outputs": []
    }
  ]
}