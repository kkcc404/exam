{
  "nbformat": 4,
  "nbformat_minor": 0,
  "metadata": {
    "colab": {
      "provenance": []
    },
    "kernelspec": {
      "name": "python3",
      "display_name": "Python 3"
    },
    "language_info": {
      "name": "python"
    }
  },
  "cells": [
    {
      "cell_type": "code",
      "execution_count": 1,
      "metadata": {
        "colab": {
          "base_uri": "https://localhost:8080/"
        },
        "id": "wD217u5FrL_2",
        "outputId": "b5eec77d-f772-4ede-b03b-3bbe66dde878"
      },
      "outputs": [
        {
          "output_type": "stream",
          "name": "stdout",
          "text": [
            "Original Dictionary : \n",
            "{'Meena': [55, 88, 77, 66, 44], 'Sumedh': [56, 78, 55, 88, 70], 'Sushil': [44, 65, 76, 33, 77]}\n",
            "Enter name of student :Meena\n",
            "[55, 88, 77, 66, 44]\n"
          ]
        }
      ],
      "source": [
        "students_data = {\"Meena\" : [55,88,77,66,44],\"Sumedh\":[56,78,55,88,70], \"Sushil\": [44,65,76,33,77]}\n",
        "print(\"Original Dictionary : \")\n",
        "print(students_data)\n",
        "# searching item in dictionary\n",
        "name = input(\"Enter name of student :\")\n",
        "if name in students_data.keys():\n",
        "    print(students_data[name])\n",
        "else :\n",
        "    print(\"No student found\")"
      ]
    }
  ]
}