{
  "nbformat": 4,
  "nbformat_minor": 0,
  "metadata": {
    "colab": {
      "provenance": []
    },
    "kernelspec": {
      "name": "python3",
      "display_name": "Python 3"
    },
    "language_info": {
      "name": "python"
    }
  },
  "cells": [
    {
      "cell_type": "code",
      "execution_count": 1,
      "metadata": {
        "colab": {
          "base_uri": "https://localhost:8080/"
        },
        "id": "KSIxHPIh9qs-",
        "outputId": "6786f0ce-b00e-4a47-f7a3-a4273f5c4f6d"
      },
      "outputs": [
        {
          "output_type": "stream",
          "name": "stdout",
          "text": [
            "Found a match!\n",
            "Found a match!\n",
            "Not matched!\n",
            "Not matched!\n",
            "Not matched!\n",
            "Found a match!\n"
          ]
        }
      ],
      "source": [
        "import re\n",
        "def text_match(text):\n",
        "        patterns = '[A-Z]+[a-z]'\n",
        "        if re.search(patterns, text):\n",
        "                return 'Found a match!'\n",
        "        else:\n",
        "                return('Not matched!')\n",
        "print(text_match(\"AaBbGg\"))\n",
        "print(text_match(\"Python\"))\n",
        "print(text_match(\"python\"))\n",
        "print(text_match(\"PYTHON\"))\n",
        "print(text_match(\"aA\"))\n",
        "print(text_match(\"Aa\"))"
      ]
    }
  ]
}