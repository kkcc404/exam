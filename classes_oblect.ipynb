{
  "nbformat": 4,
  "nbformat_minor": 0,
  "metadata": {
    "colab": {
      "provenance": []
    },
    "kernelspec": {
      "name": "python3",
      "display_name": "Python 3"
    },
    "language_info": {
      "name": "python"
    }
  },
  "cells": [
    {
      "cell_type": "code",
      "execution_count": 1,
      "metadata": {
        "colab": {
          "base_uri": "https://localhost:8080/"
        },
        "id": "fD8YQHgFz_TU",
        "outputId": "a8fd18bd-a3c5-4e95-c997-b370c391f62e"
      },
      "outputs": [
        {
          "output_type": "stream",
          "name": "stdout",
          "text": [
            "Area of Room = 1309.0\n"
          ]
        }
      ],
      "source": [
        "# create a class\n",
        "class Room:\n",
        "    length = 0.0\n",
        "    breadth = 0.0\n",
        "\n",
        "    # method to calculate area\n",
        "    def calculate_area(self):\n",
        "        print(\"Area of Room =\", self.length * self.breadth)\n",
        "\n",
        "# create object of Room class\n",
        "study_room = Room()\n",
        "\n",
        "# assign values to all the attributes\n",
        "study_room.length = 42.5\n",
        "study_room.breadth = 30.8\n",
        "\n",
        "# access method inside class\n",
        "study_room.calculate_area()"
      ]
    }
  ]
}