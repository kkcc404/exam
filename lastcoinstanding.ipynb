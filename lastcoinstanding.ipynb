{
  "nbformat": 4,
  "nbformat_minor": 0,
  "metadata": {
    "colab": {
      "provenance": []
    },
    "kernelspec": {
      "name": "python3",
      "display_name": "Python 3"
    },
    "language_info": {
      "name": "python"
    }
  },
  "cells": [
    {
      "cell_type": "code",
      "source": [
        "import random\n",
        "\n",
        "class LastCoinStanding:\n",
        "    def __init__(self, num_coins=25, max_coins_per_move=4):\n",
        "        self.num_coins = num_coins\n",
        "        self.max_coins_per_move = max_coins_per_move\n",
        "\n",
        "    def play(self):\n",
        "        print(\"Welcome to Last Coin Standing!\")\n",
        "        while self.num_coins > 0:\n",
        "            print(f\"\\nCoins left in the pile: {self.num_coins}\")\n",
        "            human_move = self.get_human_move()\n",
        "            self.remove_coins(human_move, \"Human\")\n",
        "            if self.num_coins <= 0:\n",
        "                print(\"Human wins!\")\n",
        "                break\n",
        "            bot_move = self.get_bot_move()\n",
        "            self.remove_coins(bot_move, \"Bot\")\n",
        "            if self.num_coins <= 0:\n",
        "                print(\"Bot wins!\")\n",
        "\n",
        "    def get_human_move(self):\n",
        "        while True:\n",
        "            try:\n",
        "                move = int(input(\"Enter the number of coins to remove (1-4): \"))\n",
        "                if 1 <= move <= self.max_coins_per_move:\n",
        "                    return move\n",
        "                else:\n",
        "                    print(\"Invalid move. Please choose between 1 and 4 coins.\")\n",
        "            except ValueError:\n",
        "                print(\"Invalid input. Please enter a number.\")\n",
        "\n",
        "    def get_bot_move(self):\n",
        "        max_bot_move = min(self.num_coins, self.max_coins_per_move)\n",
        "        return random.randint(1, max_bot_move)\n",
        "\n",
        "    def remove_coins(self, num_coins_to_remove, player):\n",
        "        self.num_coins -= num_coins_to_remove\n",
        "        print(f\"{player} removes {num_coins_to_remove} coins.\")\n",
        "\n",
        "if __name__ == \"__main__\":\n",
        "    game = LastCoinStanding()\n",
        "    game.play()\n"
      ],
      "metadata": {
        "id": "JjzUcaFeu68B"
      },
      "execution_count": null,
      "outputs": []
    }
  ]
}